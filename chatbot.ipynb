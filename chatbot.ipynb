{
 "cells": [
  {
   "cell_type": "markdown",
   "id": "366838bd",
   "metadata": {},
   "source": [
    "# chatbot using NLTK"
   ]
  },
  {
   "cell_type": "code",
   "execution_count": 13,
   "id": "0b3a9873",
   "metadata": {},
   "outputs": [],
   "source": [
    "import nltk"
   ]
  },
  {
   "cell_type": "code",
   "execution_count": 14,
   "id": "a1df309d",
   "metadata": {},
   "outputs": [],
   "source": [
    "# the reflections dict maps first-person phases to second person\n",
    "from nltk.chat.util import Chat, reflections"
   ]
  },
  {
   "cell_type": "code",
   "execution_count": 15,
   "id": "2dc35db2",
   "metadata": {},
   "outputs": [],
   "source": [
    "#each pair has a regex to match user input and a set of possible reponses (chosen at random)\n",
    "# the final pattern is a catchall\n",
    "\n",
    "pairs = [\n",
    "    [\n",
    "        r\".*hi|hello|hey|what's up.*\",\n",
    "        [\"Hello, I am a simple chatbot. How are you?\"]\n",
    "    ],\n",
    "    [\n",
    "        r\".*(how are you|and you).*\",\n",
    "        [\"Doing well, thank you\", \"I'm ok, what's new?\"]\n",
    "    ],\n",
    "    [\n",
    "        r'quit',\n",
    "        [\"Bye, nice talking to you!\", \"Talk to you later!\"]\n",
    "    ],\n",
    "    [\n",
    "        r\".*(weather|rain|snow|sun|raining).*\",\n",
    "        [\"Isn't it nice out today?\", \"Hopefully, tomorrow the weather will get better\",\"I don't know about it\"],    \n",
    "    ],\n",
    "    [\n",
    "        r\"I like (.*)\",\n",
    "        [\"Why do you like %1\", \"What about %1 do you like?\"]\n",
    "    ],\n",
    "    [\n",
    "        r\".*(tasty).*\",\n",
    "        [\"Yeah, I think so too\"]\n",
    "    ],\n",
    "    [\n",
    "        r\".*\",\n",
    "        [\"I am sorry, I don't understand I am a very simple chat bot\"]\n",
    "    ]\n",
    "]\n"
   ]
  },
  {
   "cell_type": "code",
   "execution_count": 18,
   "id": "4eaceac2",
   "metadata": {},
   "outputs": [],
   "source": [
    "chatbot = Chat(pairs, reflections)"
   ]
  },
  {
   "cell_type": "code",
   "execution_count": 19,
   "id": "5b95a65d",
   "metadata": {
    "scrolled": true
   },
   "outputs": [
    {
     "name": "stdout",
     "output_type": "stream",
     "text": [
      ">quit\n",
      "Bye, nice talking to you!\n"
     ]
    }
   ],
   "source": [
    "#begin a conversation\n",
    "chatbot.converse()"
   ]
  },
  {
   "cell_type": "code",
   "execution_count": 22,
   "id": "edd13644",
   "metadata": {},
   "outputs": [
    {
     "data": {
      "text/plain": [
       "{'i am': 'you are',\n",
       " 'i was': 'you were',\n",
       " 'i': 'you',\n",
       " \"i'm\": 'you are',\n",
       " \"i'd\": 'you would',\n",
       " \"i've\": 'you have',\n",
       " \"i'll\": 'you will',\n",
       " 'my': 'your',\n",
       " 'you are': 'I am',\n",
       " 'you were': 'I was',\n",
       " \"you've\": 'I have',\n",
       " \"you'll\": 'I will',\n",
       " 'your': 'my',\n",
       " 'yours': 'mine',\n",
       " 'you': 'me',\n",
       " 'me': 'you'}"
      ]
     },
     "execution_count": 22,
     "metadata": {},
     "output_type": "execute_result"
    }
   ],
   "source": [
    "# we could override the default reflections\n",
    "reflections"
   ]
  },
  {
   "cell_type": "markdown",
   "id": "a4d1136f",
   "metadata": {},
   "source": [
    "# Other nltk chatbots\n"
   ]
  },
  {
   "cell_type": "code",
   "execution_count": 23,
   "id": "9fb63506",
   "metadata": {},
   "outputs": [
    {
     "name": "stdout",
     "output_type": "stream",
     "text": [
      "Therapist\n",
      "---------\n",
      "Talk to the program by typing in plain English, using normal upper-\n",
      "and lower-case letters and punctuation.  Enter \"quit\" when done.\n",
      "========================================================================\n",
      "Hello.  How are you feeling today?\n",
      ">ichy\n",
      "ichy.\n",
      ">pain\n",
      "How does that make you feel?\n",
      ">sad\n",
      "Please tell me more.\n",
      ">I want to die\n",
      "If you got to die, then what would you do?\n",
      ">sleep\n",
      "Very interesting.\n",
      ">how are you\n",
      "Perhaps you can answer your own question.\n",
      ">fuck you\n",
      "Very interesting.\n",
      ">what do you want from me\n",
      "How would an answer to that help you?\n",
      ">quit\n",
      "Good-bye.\n"
     ]
    }
   ],
   "source": [
    "from nltk.chat import eliza_chat\n",
    "eliza_chat()"
   ]
  },
  {
   "cell_type": "code",
   "execution_count": 24,
   "id": "993832f8",
   "metadata": {},
   "outputs": [
    {
     "name": "stdout",
     "output_type": "stream",
     "text": [
      "Iesha the TeenBoT\n",
      "---------\n",
      "Talk to the program by typing in plain English, using normal upper-\n",
      "and lower-case letters and punctuation.  Enter \"quit\" when done.\n",
      "========================================================================\n",
      "hi!! i'm iesha! who r u??!\n",
      ">are you cook\n",
      "am iam??! how come u ask that!\n",
      ">cool\n",
      "i wish i was a kitty!! kekekeke ^_^\n",
      ">boring\n",
      "do u like anime?\n",
      ">i like you\n",
      "yay! me rocks!\n",
      ">quit\n",
      "how to see u again soon! ^_^\n"
     ]
    }
   ],
   "source": [
    "from nltk.chat import iesha_chat\n",
    "iesha_chat()"
   ]
  },
  {
   "cell_type": "code",
   "execution_count": 25,
   "id": "7cdb70a2",
   "metadata": {},
   "outputs": [
    {
     "name": "stdout",
     "output_type": "stream",
     "text": [
      "Talk to the program by typing in plain English, using normal upper-\n",
      "and lower-case letters and punctuation.  Enter \"quit\" when done.\n",
      "========================================================================\n",
      "I suppose I should say hello.\n",
      ">you\n",
      "Either become more thrilling or get lost, buddy.\n",
      ">are you talking to me\n",
      "I'm getting bored here. Become more interesting.\n",
      ">sex\n",
      "Change the subject before I die of fatal boredom.\n",
      ">sex\n",
      "Change the subject before I die of fatal boredom.\n",
      ">oral\n",
      "Change the subject before I die of fatal boredom.\n",
      ">caman\n",
      "Change the subject before I die of fatal boredom.\n",
      ">ajj\n",
      "Change the subject before I die of fatal boredom.\n",
      ">mika\n",
      "Change the subject before I die of fatal boredom.\n",
      ">is a dog\n",
      "I'm getting bored here. Become more interesting.\n",
      ">knock knock\n",
      "Change the subject before I die of fatal boredom.\n",
      ">quit\n",
      "I'm getting bored here. Become more interesting.\n"
     ]
    }
   ],
   "source": [
    "from nltk.chat import rude_chat\n",
    "rude_chat()\n"
   ]
  },
  {
   "cell_type": "code",
   "execution_count": 26,
   "id": "f2f0e680",
   "metadata": {},
   "outputs": [
    {
     "name": "stdout",
     "output_type": "stream",
     "text": [
      "***************************************************************************\n",
      "                                Zen Chatbot!                               \n",
      "***************************************************************************\n",
      "         \"Look beyond mere words and letters - look into your mind\"        \n",
      "* Talk your way to truth with Zen Chatbot.\n",
      "* Type 'quit' when you have had enough.\n",
      "***************************************************************************\n",
      "Welcome, my child.\n",
      ">hi\n",
      "Form is emptiness, and emptiness is form.\n",
      ">sad\n",
      "I pour out a cup of water. Is the cup empty?\n",
      ">half\n",
      "Random talk is useless.\n",
      ">miau\n",
      "I pour out a cup of water. Is the cup empty?\n",
      ">cup of tea\n",
      "Form is emptiness, and emptiness is form.\n",
      ">quit\n",
      "The reverse side also has a reverse side.\n"
     ]
    }
   ],
   "source": [
    "from nltk.chat import zen_chat\n",
    "zen_chat()"
   ]
  },
  {
   "cell_type": "code",
   "execution_count": null,
   "id": "71933064",
   "metadata": {},
   "outputs": [],
   "source": []
  },
  {
   "cell_type": "code",
   "execution_count": null,
   "id": "f6dcc467",
   "metadata": {},
   "outputs": [],
   "source": []
  },
  {
   "cell_type": "code",
   "execution_count": null,
   "id": "955030a8",
   "metadata": {},
   "outputs": [],
   "source": []
  },
  {
   "cell_type": "code",
   "execution_count": null,
   "id": "18e027f9",
   "metadata": {},
   "outputs": [],
   "source": []
  }
 ],
 "metadata": {
  "kernelspec": {
   "display_name": "Python 3",
   "language": "python",
   "name": "python3"
  },
  "language_info": {
   "codemirror_mode": {
    "name": "ipython",
    "version": 3
   },
   "file_extension": ".py",
   "mimetype": "text/x-python",
   "name": "python",
   "nbconvert_exporter": "python",
   "pygments_lexer": "ipython3",
   "version": "3.8.8"
  }
 },
 "nbformat": 4,
 "nbformat_minor": 5
}
